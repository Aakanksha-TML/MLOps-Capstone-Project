{
 "cells": [
  {
   "cell_type": "code",
   "execution_count": 1,
   "id": "f92732a3",
   "metadata": {},
   "outputs": [
    {
     "name": "stdout",
     "output_type": "stream",
     "text": [
      "Requirement already satisfied: numpy==1.26.4 in /home/azureuser/anaconda3/lib/python3.9/site-packages (1.26.4)\n",
      "Requirement already satisfied: evidently==0.6.7 in /home/azureuser/anaconda3/lib/python3.9/site-packages (0.6.7)\n",
      "Requirement already satisfied: ucimlrepo in /home/azureuser/anaconda3/lib/python3.9/site-packages (0.0.7)\n",
      "Requirement already satisfied: certifi>=2024.7.4 in /home/azureuser/anaconda3/lib/python3.9/site-packages (from evidently==0.6.7) (2025.7.14)\n",
      "Requirement already satisfied: nltk>=3.6.7 in /home/azureuser/anaconda3/lib/python3.9/site-packages (from evidently==0.6.7) (3.7)\n",
      "Requirement already satisfied: urllib3>=1.26.19 in /home/azureuser/anaconda3/lib/python3.9/site-packages (from evidently==0.6.7) (2.5.0)\n",
      "Requirement already satisfied: pandas[parquet]>=1.3.5 in /home/azureuser/anaconda3/lib/python3.9/site-packages (from evidently==0.6.7) (2.3.1)\n",
      "Requirement already satisfied: uuid6>=2024.7.10 in /home/azureuser/anaconda3/lib/python3.9/site-packages (from evidently==0.6.7) (2025.0.1)\n",
      "Requirement already satisfied: scikit-learn>=1.0.1 in /home/azureuser/anaconda3/lib/python3.9/site-packages (from evidently==0.6.7) (1.6.1)\n",
      "Requirement already satisfied: typer>=0.3 in /home/azureuser/anaconda3/lib/python3.9/site-packages (from evidently==0.6.7) (0.16.0)\n",
      "Requirement already satisfied: requests>=2.32.0 in /home/azureuser/anaconda3/lib/python3.9/site-packages (from evidently==0.6.7) (2.32.4)\n",
      "Requirement already satisfied: litestar>=2.8.3 in /home/azureuser/anaconda3/lib/python3.9/site-packages (from evidently==0.6.7) (2.16.0)\n",
      "Requirement already satisfied: ujson>=5.4.0 in /home/azureuser/anaconda3/lib/python3.9/site-packages (from evidently==0.6.7) (5.10.0)\n",
      "Requirement already satisfied: statsmodels>=0.12.2 in /home/azureuser/anaconda3/lib/python3.9/site-packages (from evidently==0.6.7) (0.13.2)\n",
      "Requirement already satisfied: scipy>=1.10.0 in /home/azureuser/anaconda3/lib/python3.9/site-packages (from evidently==0.6.7) (1.13.1)\n",
      "Requirement already satisfied: pydantic>=1.10.16 in /home/azureuser/anaconda3/lib/python3.9/site-packages (from evidently==0.6.7) (2.11.7)\n",
      "Requirement already satisfied: uvicorn[standard]>=0.22.0 in /home/azureuser/anaconda3/lib/python3.9/site-packages (from evidently==0.6.7) (0.35.0)\n",
      "Requirement already satisfied: plotly<6,>=5.10.0 in /home/azureuser/anaconda3/lib/python3.9/site-packages (from evidently==0.6.7) (5.24.1)\n",
      "Requirement already satisfied: rich>=13 in /home/azureuser/anaconda3/lib/python3.9/site-packages (from evidently==0.6.7) (14.1.0)\n",
      "Requirement already satisfied: deprecation>=2.1.0 in /home/azureuser/anaconda3/lib/python3.9/site-packages (from evidently==0.6.7) (2.1.0)\n",
      "Requirement already satisfied: PyYAML>=5.4 in /home/azureuser/anaconda3/lib/python3.9/site-packages (from evidently==0.6.7) (6.0)\n",
      "Requirement already satisfied: watchdog>=3.0.0 in /home/azureuser/anaconda3/lib/python3.9/site-packages (from evidently==0.6.7) (6.0.0)\n",
      "Requirement already satisfied: iterative-telemetry>=0.0.5 in /home/azureuser/anaconda3/lib/python3.9/site-packages (from evidently==0.6.7) (0.0.10)\n",
      "Requirement already satisfied: fsspec>=2024.6.1 in /home/azureuser/anaconda3/lib/python3.9/site-packages (from evidently==0.6.7) (2025.7.0)\n",
      "Requirement already satisfied: cryptography>=43.0.1 in /home/azureuser/anaconda3/lib/python3.9/site-packages (from evidently==0.6.7) (45.0.5)\n",
      "Requirement already satisfied: dynaconf>=3.2.4 in /home/azureuser/anaconda3/lib/python3.9/site-packages (from evidently==0.6.7) (3.2.11)\n",
      "Requirement already satisfied: typing-inspect>=0.9.0 in /home/azureuser/anaconda3/lib/python3.9/site-packages (from evidently==0.6.7) (0.9.0)\n",
      "Requirement already satisfied: cffi>=1.14 in /home/azureuser/anaconda3/lib/python3.9/site-packages (from cryptography>=43.0.1->evidently==0.6.7) (1.15.0)\n",
      "Requirement already satisfied: pycparser in /home/azureuser/anaconda3/lib/python3.9/site-packages (from cffi>=1.14->cryptography>=43.0.1->evidently==0.6.7) (2.21)\n",
      "Requirement already satisfied: packaging in /home/azureuser/anaconda3/lib/python3.9/site-packages (from deprecation>=2.1.0->evidently==0.6.7) (25.0)\n",
      "Requirement already satisfied: appdirs in /home/azureuser/anaconda3/lib/python3.9/site-packages (from iterative-telemetry>=0.0.5->evidently==0.6.7) (1.4.4)\n",
      "Requirement already satisfied: filelock in /home/azureuser/anaconda3/lib/python3.9/site-packages (from iterative-telemetry>=0.0.5->evidently==0.6.7) (3.6.0)\n",
      "Requirement already satisfied: distro in /home/azureuser/anaconda3/lib/python3.9/site-packages (from iterative-telemetry>=0.0.5->evidently==0.6.7) (1.9.0)\n",
      "Requirement already satisfied: multipart>=1.2.0 in /home/azureuser/anaconda3/lib/python3.9/site-packages (from litestar>=2.8.3->evidently==0.6.7) (1.3.0)\n",
      "Requirement already satisfied: litestar-htmx>=0.4.0 in /home/azureuser/anaconda3/lib/python3.9/site-packages (from litestar>=2.8.3->evidently==0.6.7) (0.5.0)\n",
      "Requirement already satisfied: rich-click in /home/azureuser/anaconda3/lib/python3.9/site-packages (from litestar>=2.8.3->evidently==0.6.7) (1.8.9)\n",
      "Requirement already satisfied: anyio>=3 in /home/azureuser/anaconda3/lib/python3.9/site-packages (from litestar>=2.8.3->evidently==0.6.7) (4.9.0)\n",
      "Requirement already satisfied: httpx>=0.22 in /home/azureuser/anaconda3/lib/python3.9/site-packages (from litestar>=2.8.3->evidently==0.6.7) (0.28.1)\n",
      "Requirement already satisfied: polyfactory>=2.6.3 in /home/azureuser/anaconda3/lib/python3.9/site-packages (from litestar>=2.8.3->evidently==0.6.7) (2.22.1)\n",
      "Requirement already satisfied: importlib-metadata in /home/azureuser/anaconda3/lib/python3.9/site-packages (from litestar>=2.8.3->evidently==0.6.7) (8.7.0)\n",
      "Requirement already satisfied: click in /home/azureuser/anaconda3/lib/python3.9/site-packages (from litestar>=2.8.3->evidently==0.6.7) (8.0.4)\n",
      "Requirement already satisfied: exceptiongroup>=1.2.2 in /home/azureuser/anaconda3/lib/python3.9/site-packages (from litestar>=2.8.3->evidently==0.6.7) (1.3.0)\n",
      "Requirement already satisfied: multidict>=6.0.2 in /home/azureuser/anaconda3/lib/python3.9/site-packages (from litestar>=2.8.3->evidently==0.6.7) (6.6.3)\n",
      "Requirement already satisfied: msgspec>=0.18.2 in /home/azureuser/anaconda3/lib/python3.9/site-packages (from litestar>=2.8.3->evidently==0.6.7) (0.19.0)\n",
      "Requirement already satisfied: typing-extensions in /home/azureuser/anaconda3/lib/python3.9/site-packages (from litestar>=2.8.3->evidently==0.6.7) (4.14.1)\n",
      "Requirement already satisfied: idna>=2.8 in /home/azureuser/anaconda3/lib/python3.9/site-packages (from anyio>=3->litestar>=2.8.3->evidently==0.6.7) (3.3)\n",
      "Requirement already satisfied: sniffio>=1.1 in /home/azureuser/anaconda3/lib/python3.9/site-packages (from anyio>=3->litestar>=2.8.3->evidently==0.6.7) (1.2.0)\n",
      "Requirement already satisfied: httpcore==1.* in /home/azureuser/anaconda3/lib/python3.9/site-packages (from httpx>=0.22->litestar>=2.8.3->evidently==0.6.7) (1.0.9)\n",
      "Requirement already satisfied: h11>=0.16 in /home/azureuser/anaconda3/lib/python3.9/site-packages (from httpcore==1.*->httpx>=0.22->litestar>=2.8.3->evidently==0.6.7) (0.16.0)\n",
      "Requirement already satisfied: tqdm in /home/azureuser/anaconda3/lib/python3.9/site-packages (from nltk>=3.6.7->evidently==0.6.7) (4.64.0)\n",
      "Requirement already satisfied: regex>=2021.8.3 in /home/azureuser/anaconda3/lib/python3.9/site-packages (from nltk>=3.6.7->evidently==0.6.7) (2022.3.15)\n",
      "Requirement already satisfied: joblib in /home/azureuser/anaconda3/lib/python3.9/site-packages (from nltk>=3.6.7->evidently==0.6.7) (1.5.1)\n",
      "Requirement already satisfied: python-dateutil>=2.8.2 in /home/azureuser/anaconda3/lib/python3.9/site-packages (from pandas[parquet]>=1.3.5->evidently==0.6.7) (2.8.2)\n",
      "Requirement already satisfied: tzdata>=2022.7 in /home/azureuser/anaconda3/lib/python3.9/site-packages (from pandas[parquet]>=1.3.5->evidently==0.6.7) (2025.2)\n",
      "Requirement already satisfied: pytz>=2020.1 in /home/azureuser/anaconda3/lib/python3.9/site-packages (from pandas[parquet]>=1.3.5->evidently==0.6.7) (2021.3)\n",
      "Requirement already satisfied: pyarrow>=10.0.1 in /home/azureuser/anaconda3/lib/python3.9/site-packages (from pandas[parquet]>=1.3.5->evidently==0.6.7) (20.0.0)\n",
      "Requirement already satisfied: tenacity>=6.2.0 in /home/azureuser/anaconda3/lib/python3.9/site-packages (from plotly<6,>=5.10.0->evidently==0.6.7) (8.5.0)\n",
      "Requirement already satisfied: faker>=5.0.0 in /home/azureuser/anaconda3/lib/python3.9/site-packages (from polyfactory>=2.6.3->litestar>=2.8.3->evidently==0.6.7) (37.5.3)\n",
      "Requirement already satisfied: typing-inspection>=0.4.0 in /home/azureuser/anaconda3/lib/python3.9/site-packages (from pydantic>=1.10.16->evidently==0.6.7) (0.4.1)\n",
      "Requirement already satisfied: pydantic-core==2.33.2 in /home/azureuser/anaconda3/lib/python3.9/site-packages (from pydantic>=1.10.16->evidently==0.6.7) (2.33.2)\n",
      "Requirement already satisfied: annotated-types>=0.6.0 in /home/azureuser/anaconda3/lib/python3.9/site-packages (from pydantic>=1.10.16->evidently==0.6.7) (0.7.0)\n",
      "Requirement already satisfied: six>=1.5 in /home/azureuser/anaconda3/lib/python3.9/site-packages (from python-dateutil>=2.8.2->pandas[parquet]>=1.3.5->evidently==0.6.7) (1.16.0)\n",
      "Requirement already satisfied: charset_normalizer<4,>=2 in /home/azureuser/anaconda3/lib/python3.9/site-packages (from requests>=2.32.0->evidently==0.6.7) (2.0.4)\n",
      "Requirement already satisfied: markdown-it-py>=2.2.0 in /home/azureuser/anaconda3/lib/python3.9/site-packages (from rich>=13->evidently==0.6.7) (3.0.0)\n",
      "Requirement already satisfied: pygments<3.0.0,>=2.13.0 in /home/azureuser/anaconda3/lib/python3.9/site-packages (from rich>=13->evidently==0.6.7) (2.19.2)\n",
      "Requirement already satisfied: mdurl~=0.1 in /home/azureuser/anaconda3/lib/python3.9/site-packages (from markdown-it-py>=2.2.0->rich>=13->evidently==0.6.7) (0.1.2)\n",
      "Requirement already satisfied: threadpoolctl>=3.1.0 in /home/azureuser/anaconda3/lib/python3.9/site-packages (from scikit-learn>=1.0.1->evidently==0.6.7) (3.6.0)\n",
      "Requirement already satisfied: patsy>=0.5.2 in /home/azureuser/anaconda3/lib/python3.9/site-packages (from statsmodels>=0.12.2->evidently==0.6.7) (0.5.2)\n",
      "Requirement already satisfied: shellingham>=1.3.0 in /home/azureuser/anaconda3/lib/python3.9/site-packages (from typer>=0.3->evidently==0.6.7) (1.5.4)\n",
      "Requirement already satisfied: mypy-extensions>=0.3.0 in /home/azureuser/anaconda3/lib/python3.9/site-packages (from typing-inspect>=0.9.0->evidently==0.6.7) (0.4.3)\n",
      "Requirement already satisfied: httptools>=0.6.3 in /home/azureuser/anaconda3/lib/python3.9/site-packages (from uvicorn[standard]>=0.22.0->evidently==0.6.7) (0.6.4)\n",
      "Requirement already satisfied: websockets>=10.4 in /home/azureuser/anaconda3/lib/python3.9/site-packages (from uvicorn[standard]>=0.22.0->evidently==0.6.7) (15.0.1)\n",
      "Requirement already satisfied: python-dotenv>=0.13 in /home/azureuser/anaconda3/lib/python3.9/site-packages (from uvicorn[standard]>=0.22.0->evidently==0.6.7) (1.1.1)\n",
      "Requirement already satisfied: watchfiles>=0.13 in /home/azureuser/anaconda3/lib/python3.9/site-packages (from uvicorn[standard]>=0.22.0->evidently==0.6.7) (1.1.0)\n",
      "Requirement already satisfied: uvloop>=0.15.1 in /home/azureuser/anaconda3/lib/python3.9/site-packages (from uvicorn[standard]>=0.22.0->evidently==0.6.7) (0.21.0)\n",
      "Requirement already satisfied: zipp>=3.20 in /home/azureuser/anaconda3/lib/python3.9/site-packages (from importlib-metadata->litestar>=2.8.3->evidently==0.6.7) (3.23.0)\n"
     ]
    }
   ],
   "source": [
    "# Install required packages\n",
    "!pip install numpy==1.26.4 evidently==0.6.7 ucimlrepo"
   ]
  },
  {
   "cell_type": "code",
   "execution_count": 2,
   "id": "2253a573",
   "metadata": {},
   "outputs": [
    {
     "name": "stdout",
     "output_type": "stream",
     "text": [
      "Requirement already satisfied: ucimlrepo in /home/azureuser/anaconda3/lib/python3.9/site-packages (0.0.7)\n",
      "Requirement already satisfied: certifi>=2020.12.5 in /home/azureuser/anaconda3/lib/python3.9/site-packages (from ucimlrepo) (2025.7.14)\n",
      "Requirement already satisfied: pandas>=1.0.0 in /home/azureuser/anaconda3/lib/python3.9/site-packages (from ucimlrepo) (2.3.1)\n",
      "Requirement already satisfied: tzdata>=2022.7 in /home/azureuser/anaconda3/lib/python3.9/site-packages (from pandas>=1.0.0->ucimlrepo) (2025.2)\n",
      "Requirement already satisfied: python-dateutil>=2.8.2 in /home/azureuser/anaconda3/lib/python3.9/site-packages (from pandas>=1.0.0->ucimlrepo) (2.8.2)\n",
      "Requirement already satisfied: numpy>=1.22.4 in /home/azureuser/anaconda3/lib/python3.9/site-packages (from pandas>=1.0.0->ucimlrepo) (1.26.4)\n",
      "Requirement already satisfied: pytz>=2020.1 in /home/azureuser/anaconda3/lib/python3.9/site-packages (from pandas>=1.0.0->ucimlrepo) (2021.3)\n",
      "Requirement already satisfied: six>=1.5 in /home/azureuser/anaconda3/lib/python3.9/site-packages (from python-dateutil>=2.8.2->pandas>=1.0.0->ucimlrepo) (1.16.0)\n"
     ]
    },
    {
     "name": "stderr",
     "output_type": "stream",
     "text": [
      "/home/azureuser/anaconda3/lib/python3.9/site-packages/pandas/core/computation/expressions.py:21: UserWarning: Pandas requires version '2.8.4' or newer of 'numexpr' (version '2.8.1' currently installed).\n",
      "  from pandas.core.computation.check import NUMEXPR_INSTALLED\n",
      "/home/azureuser/anaconda3/lib/python3.9/site-packages/pandas/core/arrays/masked.py:61: UserWarning: Pandas requires version '1.3.6' or newer of 'bottleneck' (version '1.3.4' currently installed).\n",
      "  from pandas.core import (\n"
     ]
    }
   ],
   "source": [
    "!pip install ucimlrepo\n",
    "\n",
    "from ucimlrepo import fetch_ucirepo"
   ]
  },
  {
   "cell_type": "code",
   "execution_count": 5,
   "id": "225a1338",
   "metadata": {},
   "outputs": [
    {
     "name": "stdout",
     "output_type": "stream",
     "text": [
      "Downloading Auto MPG dataset...\n",
      "Original dataset shape: (398, 8)\n",
      "   displacement  cylinders  horsepower  weight  acceleration  model_year  \\\n",
      "0         307.0          8       130.0    3504          12.0          70   \n",
      "1         350.0          8       165.0    3693          11.5          70   \n",
      "2         318.0          8       150.0    3436          11.0          70   \n",
      "3         304.0          8       150.0    3433          12.0          70   \n",
      "4         302.0          8       140.0    3449          10.5          70   \n",
      "\n",
      "   origin   mpg  \n",
      "0       1  18.0  \n",
      "1       1  15.0  \n",
      "2       1  18.0  \n",
      "3       1  16.0  \n",
      "4       1  17.0  \n"
     ]
    }
   ],
   "source": [
    "# ===============================\n",
    "# Load Auto MPG Dataset\n",
    "# ===============================\n",
    "print(\"Downloading Auto MPG dataset...\")\n",
    "auto_mpg = fetch_ucirepo(id=9)\n",
    "\n",
    "df = auto_mpg.data.features.copy()  # Ensures it's a deep copy\n",
    "df['mpg'] = auto_mpg.data.targets\n",
    "\n",
    "\n",
    "print(\"Original dataset shape:\", df.shape)\n",
    "print(df.head())\n"
   ]
  },
  {
   "cell_type": "code",
   "execution_count": 6,
   "id": "87f856c1",
   "metadata": {},
   "outputs": [
    {
     "name": "stdout",
     "output_type": "stream",
     "text": [
      "Cleaned dataset shape: (392, 8)\n"
     ]
    }
   ],
   "source": [
    "# ===============================\n",
    "# Basic Data Cleaning\n",
    "# ===============================\n",
    "df.dropna(inplace=True)\n",
    "print(\"Cleaned dataset shape:\", df.shape)\n"
   ]
  },
  {
   "cell_type": "code",
   "execution_count": 7,
   "id": "f98ae4e4",
   "metadata": {},
   "outputs": [],
   "source": [
    "# ===============================\n",
    "# Split into Reference and Current Data\n",
    "# ===============================\n",
    "reference_data = df.iloc[:150].copy()\n",
    "current_data = df.iloc[150:300].copy()"
   ]
  },
  {
   "cell_type": "code",
   "execution_count": 8,
   "id": "069b1675",
   "metadata": {},
   "outputs": [
    {
     "name": "stdout",
     "output_type": "stream",
     "text": [
      "Simulating data drift in 'current' dataset...\n",
      "Reference data shape: (150, 8)\n",
      "Current data shape: (150, 8)\n"
     ]
    }
   ],
   "source": [
    "# ===============================\n",
    "# Introduce Data Drift in Current Data\n",
    "# ===============================\n",
    "print(\"Simulating data drift in 'current' dataset...\")\n",
    "current_data['displacement'] *= 1.1\n",
    "current_data['horsepower'] *= 1.2\n",
    "current_data['weight'] *= 0.9\n",
    "current_data['cylinders'] = current_data['cylinders'].replace({\n",
    "    3: 4, 4: 5, 5: 3, 6: 8, 8: 4\n",
    "})\n",
    "\n",
    "print(\"Reference data shape:\", reference_data.shape)\n",
    "print(\"Current data shape:\", current_data.shape)\n"
   ]
  },
  {
   "cell_type": "code",
   "execution_count": 14,
   "id": "d6213073",
   "metadata": {},
   "outputs": [],
   "source": [
    "from evidently.report import Report\n",
    "from evidently.metric_preset import DataDriftPreset, TargetDriftPreset\n",
    "import datetime\n",
    "\n"
   ]
  },
  {
   "cell_type": "code",
   "execution_count": 15,
   "id": "cf0abef1",
   "metadata": {},
   "outputs": [
    {
     "name": "stderr",
     "output_type": "stream",
     "text": [
      "/home/azureuser/anaconda3/lib/python3.9/site-packages/scipy/stats/_stats_py.py:7985: RuntimeWarning: divide by zero encountered in divide\n",
      "  terms = (f_obs_float - f_exp)**2 / f_exp\n",
      "/home/azureuser/anaconda3/lib/python3.9/site-packages/scipy/stats/_stats_py.py:7985: RuntimeWarning: divide by zero encountered in divide\n",
      "  terms = (f_obs_float - f_exp)**2 / f_exp\n"
     ]
    },
    {
     "name": "stdout",
     "output_type": "stream",
     "text": [
      "Data Drift Report saved to auto_mpg_data_drift_20250813_173820.html\n"
     ]
    }
   ],
   "source": [
    "# ===============================\n",
    "# Data Drift Report\n",
    "# ===============================\n",
    "data_drift_report = Report(metrics=[\n",
    "    DataDriftPreset()\n",
    "])\n",
    "data_drift_report.run(current_data=current_data, reference_data=reference_data, column_mapping=None)\n",
    "\n",
    "report_filename = f'auto_mpg_data_drift_{datetime.datetime.now().strftime(\"%Y%m%d_%H%M%S\")}.html'\n",
    "data_drift_report.save_html(report_filename)\n",
    "print(f\"Data Drift Report saved to {report_filename}\")"
   ]
  },
  {
   "cell_type": "code",
   "execution_count": 19,
   "id": "c769ddb5",
   "metadata": {},
   "outputs": [],
   "source": [
    "import pandas as pd\n",
    "import numpy as np\n",
    "import requests\n",
    "import io\n",
    "import datetime\n",
    "import joblib\n",
    "from sklearn.model_selection import train_test_split\n",
    "from sklearn.linear_model import LinearRegression\n",
    "from evidently.report import Report\n",
    "from evidently.metric_preset import DataDriftPreset, TargetDriftPreset\n"
   ]
  },
  {
   "cell_type": "code",
   "execution_count": 20,
   "id": "71f7e80e",
   "metadata": {},
   "outputs": [
    {
     "name": "stdout",
     "output_type": "stream",
     "text": [
      "\n",
      "Training linear regression model...\n",
      "Model saved to auto_mpg_model.joblib\n"
     ]
    }
   ],
   "source": [
    "# ===============================\n",
    "# Model Training (Linear Regression)\n",
    "# ===============================\n",
    "print(\"\\nTraining linear regression model...\")\n",
    "\n",
    "features = ['displacement', 'cylinders', 'horsepower', 'weight', 'acceleration', 'model_year', 'origin']\n",
    "target = 'mpg'\n",
    "\n",
    "X_ref = reference_data[features]\n",
    "y_ref = reference_data[target]\n",
    "\n",
    "model = LinearRegression()\n",
    "model.fit(X_ref, y_ref)\n",
    "\n",
    "model_filename = 'auto_mpg_model.joblib'\n",
    "joblib.dump(model, model_filename)\n",
    "print(f\"Model saved to {model_filename}\")"
   ]
  },
  {
   "cell_type": "code",
   "execution_count": 21,
   "id": "ceb6bb3f",
   "metadata": {},
   "outputs": [],
   "source": [
    "# ===============================\n",
    "# Predictions\n",
    "# ===============================\n",
    "reference_data['prediction'] = model.predict(X_ref)\n",
    "\n",
    "X_curr = current_data[features]\n",
    "current_data['prediction'] = model.predict(X_curr)\n"
   ]
  },
  {
   "cell_type": "code",
   "execution_count": 22,
   "id": "4f6aaf35",
   "metadata": {},
   "outputs": [
    {
     "name": "stdout",
     "output_type": "stream",
     "text": [
      "\n",
      "Generating Target Drift report...\n",
      "Model Performance Report saved to auto_mpg_model_performance_20250813_174027.html\n"
     ]
    }
   ],
   "source": [
    "# ===============================\n",
    "# Target Drift Report\n",
    "# ===============================\n",
    "print(\"\\nGenerating Target Drift report...\")\n",
    "model_report = Report(metrics=[\n",
    "    TargetDriftPreset()\n",
    "])\n",
    "model_report.run(current_data=current_data, reference_data=reference_data, column_mapping=None)\n",
    "\n",
    "model_report_filename = f'auto_mpg_model_performance_{datetime.datetime.now().strftime(\"%Y%m%d_%H%M%S\")}.html'\n",
    "model_report.save_html(model_report_filename)\n",
    "print(f\"Model Performance Report saved to {model_report_filename}\")\n"
   ]
  },
  {
   "cell_type": "code",
   "execution_count": 23,
   "id": "cbc7ea3e",
   "metadata": {},
   "outputs": [],
   "source": [
    "# ===============================\n",
    "# Drift Detection Function\n",
    "# ===============================\n",
    "def check_for_drift(report_json, threshold=0.1):\n",
    "    for metric in report_json.get('metrics', []):\n",
    "        if metric.get('metric') == 'DatasetDriftMetric':\n",
    "            drift_score = metric.get('result', {}).get('drift_share')\n",
    "            print(\"Drift Score:\", drift_score)\n",
    "            if drift_score and drift_score > threshold:\n",
    "                return True\n",
    "    return False\n",
    "\n",
    "def local_alert(drift_detected):\n",
    "    if drift_detected:\n",
    "        print(\"\\n!!! ALERT: Data Drift Detected !!!\")\n",
    "    else:\n",
    "        print(\"\\nNo significant data drift detected.\")\n"
   ]
  },
  {
   "cell_type": "code",
   "execution_count": 24,
   "id": "bfd47a33",
   "metadata": {},
   "outputs": [
    {
     "name": "stdout",
     "output_type": "stream",
     "text": [
      "Drift Score: 0.5\n",
      "\n",
      "!!! ALERT: Data Drift Detected !!!\n"
     ]
    }
   ],
   "source": [
    "# ===============================\n",
    "# Run Drift Check\n",
    "# ===============================\n",
    "report_json_data = data_drift_report.as_dict()\n",
    "drift_detected = check_for_drift(report_json_data)\n",
    "local_alert(drift_detected)"
   ]
  },
  {
   "cell_type": "code",
   "execution_count": null,
   "id": "f80466f8",
   "metadata": {},
   "outputs": [],
   "source": []
  }
 ],
 "metadata": {
  "kernelspec": {
   "display_name": "Python 3 (ipykernel)",
   "language": "python",
   "name": "python3"
  },
  "language_info": {
   "codemirror_mode": {
    "name": "ipython",
    "version": 3
   },
   "file_extension": ".py",
   "mimetype": "text/x-python",
   "name": "python",
   "nbconvert_exporter": "python",
   "pygments_lexer": "ipython3",
   "version": "3.9.12"
  }
 },
 "nbformat": 4,
 "nbformat_minor": 5
}
