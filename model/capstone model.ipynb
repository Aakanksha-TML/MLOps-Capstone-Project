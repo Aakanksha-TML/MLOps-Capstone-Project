{
 "cells": [
  {
   "cell_type": "code",
   "execution_count": 1,
   "id": "0ea845f1",
   "metadata": {},
   "outputs": [
    {
     "name": "stdout",
     "output_type": "stream",
     "text": [
      "Requirement already satisfied: ucimlrepo in /home/azureuser/anaconda3/lib/python3.9/site-packages (0.0.7)\n",
      "Requirement already satisfied: certifi>=2020.12.5 in /home/azureuser/anaconda3/lib/python3.9/site-packages (from ucimlrepo) (2025.7.14)\n",
      "Requirement already satisfied: pandas>=1.0.0 in /home/azureuser/anaconda3/lib/python3.9/site-packages (from ucimlrepo) (2.3.1)\n",
      "Requirement already satisfied: python-dateutil>=2.8.2 in /home/azureuser/anaconda3/lib/python3.9/site-packages (from pandas>=1.0.0->ucimlrepo) (2.8.2)\n",
      "Requirement already satisfied: pytz>=2020.1 in /home/azureuser/anaconda3/lib/python3.9/site-packages (from pandas>=1.0.0->ucimlrepo) (2021.3)\n",
      "Requirement already satisfied: tzdata>=2022.7 in /home/azureuser/anaconda3/lib/python3.9/site-packages (from pandas>=1.0.0->ucimlrepo) (2025.2)\n",
      "Requirement already satisfied: numpy>=1.22.4 in /home/azureuser/anaconda3/lib/python3.9/site-packages (from pandas>=1.0.0->ucimlrepo) (1.26.4)\n",
      "Requirement already satisfied: six>=1.5 in /home/azureuser/anaconda3/lib/python3.9/site-packages (from python-dateutil>=2.8.2->pandas>=1.0.0->ucimlrepo) (1.16.0)\n"
     ]
    },
    {
     "name": "stderr",
     "output_type": "stream",
     "text": [
      "/home/azureuser/anaconda3/lib/python3.9/site-packages/pandas/core/computation/expressions.py:21: UserWarning: Pandas requires version '2.8.4' or newer of 'numexpr' (version '2.8.1' currently installed).\n",
      "  from pandas.core.computation.check import NUMEXPR_INSTALLED\n",
      "/home/azureuser/anaconda3/lib/python3.9/site-packages/pandas/core/arrays/masked.py:61: UserWarning: Pandas requires version '1.3.6' or newer of 'bottleneck' (version '1.3.4' currently installed).\n",
      "  from pandas.core import (\n"
     ]
    }
   ],
   "source": [
    "!pip install ucimlrepo\n",
    "\n",
    "from ucimlrepo import fetch_ucirepo\n",
    "\n",
    "auto_mpg = fetch_ucirepo(id=9)\n",
    "\n",
    "X = auto_mpg.data.features\n",
    "y = auto_mpg.data.targets"
   ]
  },
  {
   "cell_type": "code",
   "execution_count": 2,
   "id": "fc919e5c",
   "metadata": {},
   "outputs": [
    {
     "name": "stdout",
     "output_type": "stream",
     "text": [
      "   displacement  cylinders  horsepower  weight  acceleration  model_year  \\\n",
      "0         307.0          8       130.0    3504          12.0          70   \n",
      "1         350.0          8       165.0    3693          11.5          70   \n",
      "2         318.0          8       150.0    3436          11.0          70   \n",
      "3         304.0          8       150.0    3433          12.0          70   \n",
      "4         302.0          8       140.0    3449          10.5          70   \n",
      "\n",
      "   origin  \n",
      "0       1  \n",
      "1       1  \n",
      "2       1  \n",
      "3       1  \n",
      "4       1  \n",
      "    mpg\n",
      "0  18.0\n",
      "1  15.0\n",
      "2  18.0\n",
      "3  16.0\n",
      "4  17.0\n"
     ]
    }
   ],
   "source": [
    "print(X.head())\n",
    "print(y.head())"
   ]
  },
  {
   "cell_type": "code",
   "execution_count": 3,
   "id": "e5ef2d70",
   "metadata": {},
   "outputs": [
    {
     "name": "stdout",
     "output_type": "stream",
     "text": [
      "displacement    0\n",
      "cylinders       0\n",
      "horsepower      6\n",
      "weight          0\n",
      "acceleration    0\n",
      "model_year      0\n",
      "origin          0\n",
      "dtype: int64\n"
     ]
    }
   ],
   "source": [
    "print(X.isnull().sum())"
   ]
  },
  {
   "cell_type": "code",
   "execution_count": 4,
   "id": "4ee4d0f2",
   "metadata": {},
   "outputs": [
    {
     "name": "stdout",
     "output_type": "stream",
     "text": [
      "displacement    0\n",
      "cylinders       0\n",
      "horsepower      0\n",
      "weight          0\n",
      "acceleration    0\n",
      "model_year      0\n",
      "origin          0\n",
      "dtype: int64\n"
     ]
    },
    {
     "name": "stderr",
     "output_type": "stream",
     "text": [
      "/tmp/ipykernel_1740/3914048846.py:2: FutureWarning: A value is trying to be set on a copy of a DataFrame or Series through chained assignment using an inplace method.\n",
      "The behavior will change in pandas 3.0. This inplace method will never work because the intermediate object on which we are setting values always behaves as a copy.\n",
      "\n",
      "For example, when doing 'df[col].method(value, inplace=True)', try using 'df.method({col: value}, inplace=True)' or df[col] = df[col].method(value) instead, to perform the operation inplace on the original object.\n",
      "\n",
      "\n",
      "  X['horsepower'].fillna(mean, inplace=True)\n",
      "/tmp/ipykernel_1740/3914048846.py:2: SettingWithCopyWarning: \n",
      "A value is trying to be set on a copy of a slice from a DataFrame\n",
      "\n",
      "See the caveats in the documentation: https://pandas.pydata.org/pandas-docs/stable/user_guide/indexing.html#returning-a-view-versus-a-copy\n",
      "  X['horsepower'].fillna(mean, inplace=True)\n"
     ]
    }
   ],
   "source": [
    "mean = X['horsepower'].mean()\n",
    "X['horsepower'].fillna(mean, inplace=True)\n",
    "print(X.isnull().sum())"
   ]
  },
  {
   "cell_type": "code",
   "execution_count": 5,
   "id": "8aef397f",
   "metadata": {},
   "outputs": [
    {
     "data": {
      "text/html": [
       "<div>\n",
       "<style scoped>\n",
       "    .dataframe tbody tr th:only-of-type {\n",
       "        vertical-align: middle;\n",
       "    }\n",
       "\n",
       "    .dataframe tbody tr th {\n",
       "        vertical-align: top;\n",
       "    }\n",
       "\n",
       "    .dataframe thead th {\n",
       "        text-align: right;\n",
       "    }\n",
       "</style>\n",
       "<table border=\"1\" class=\"dataframe\">\n",
       "  <thead>\n",
       "    <tr style=\"text-align: right;\">\n",
       "      <th></th>\n",
       "      <th>displacement</th>\n",
       "      <th>cylinders</th>\n",
       "      <th>horsepower</th>\n",
       "      <th>weight</th>\n",
       "      <th>acceleration</th>\n",
       "      <th>model_year</th>\n",
       "      <th>origin</th>\n",
       "      <th>mpg</th>\n",
       "    </tr>\n",
       "  </thead>\n",
       "  <tbody>\n",
       "    <tr>\n",
       "      <th>count</th>\n",
       "      <td>398.000000</td>\n",
       "      <td>398.000000</td>\n",
       "      <td>398.000000</td>\n",
       "      <td>398.000000</td>\n",
       "      <td>398.000000</td>\n",
       "      <td>398.000000</td>\n",
       "      <td>398.000000</td>\n",
       "      <td>398.000000</td>\n",
       "    </tr>\n",
       "    <tr>\n",
       "      <th>mean</th>\n",
       "      <td>193.425879</td>\n",
       "      <td>5.454774</td>\n",
       "      <td>104.469388</td>\n",
       "      <td>2970.424623</td>\n",
       "      <td>15.568090</td>\n",
       "      <td>76.010050</td>\n",
       "      <td>1.572864</td>\n",
       "      <td>23.514573</td>\n",
       "    </tr>\n",
       "    <tr>\n",
       "      <th>std</th>\n",
       "      <td>104.269838</td>\n",
       "      <td>1.701004</td>\n",
       "      <td>38.199187</td>\n",
       "      <td>846.841774</td>\n",
       "      <td>2.757689</td>\n",
       "      <td>3.697627</td>\n",
       "      <td>0.802055</td>\n",
       "      <td>7.815984</td>\n",
       "    </tr>\n",
       "    <tr>\n",
       "      <th>min</th>\n",
       "      <td>68.000000</td>\n",
       "      <td>3.000000</td>\n",
       "      <td>46.000000</td>\n",
       "      <td>1613.000000</td>\n",
       "      <td>8.000000</td>\n",
       "      <td>70.000000</td>\n",
       "      <td>1.000000</td>\n",
       "      <td>9.000000</td>\n",
       "    </tr>\n",
       "    <tr>\n",
       "      <th>25%</th>\n",
       "      <td>104.250000</td>\n",
       "      <td>4.000000</td>\n",
       "      <td>76.000000</td>\n",
       "      <td>2223.750000</td>\n",
       "      <td>13.825000</td>\n",
       "      <td>73.000000</td>\n",
       "      <td>1.000000</td>\n",
       "      <td>17.500000</td>\n",
       "    </tr>\n",
       "    <tr>\n",
       "      <th>50%</th>\n",
       "      <td>148.500000</td>\n",
       "      <td>4.000000</td>\n",
       "      <td>95.000000</td>\n",
       "      <td>2803.500000</td>\n",
       "      <td>15.500000</td>\n",
       "      <td>76.000000</td>\n",
       "      <td>1.000000</td>\n",
       "      <td>23.000000</td>\n",
       "    </tr>\n",
       "    <tr>\n",
       "      <th>75%</th>\n",
       "      <td>262.000000</td>\n",
       "      <td>8.000000</td>\n",
       "      <td>125.000000</td>\n",
       "      <td>3608.000000</td>\n",
       "      <td>17.175000</td>\n",
       "      <td>79.000000</td>\n",
       "      <td>2.000000</td>\n",
       "      <td>29.000000</td>\n",
       "    </tr>\n",
       "    <tr>\n",
       "      <th>max</th>\n",
       "      <td>455.000000</td>\n",
       "      <td>8.000000</td>\n",
       "      <td>230.000000</td>\n",
       "      <td>5140.000000</td>\n",
       "      <td>24.800000</td>\n",
       "      <td>82.000000</td>\n",
       "      <td>3.000000</td>\n",
       "      <td>46.600000</td>\n",
       "    </tr>\n",
       "  </tbody>\n",
       "</table>\n",
       "</div>"
      ],
      "text/plain": [
       "       displacement   cylinders  horsepower       weight  acceleration  \\\n",
       "count    398.000000  398.000000  398.000000   398.000000    398.000000   \n",
       "mean     193.425879    5.454774  104.469388  2970.424623     15.568090   \n",
       "std      104.269838    1.701004   38.199187   846.841774      2.757689   \n",
       "min       68.000000    3.000000   46.000000  1613.000000      8.000000   \n",
       "25%      104.250000    4.000000   76.000000  2223.750000     13.825000   \n",
       "50%      148.500000    4.000000   95.000000  2803.500000     15.500000   \n",
       "75%      262.000000    8.000000  125.000000  3608.000000     17.175000   \n",
       "max      455.000000    8.000000  230.000000  5140.000000     24.800000   \n",
       "\n",
       "       model_year      origin         mpg  \n",
       "count  398.000000  398.000000  398.000000  \n",
       "mean    76.010050    1.572864   23.514573  \n",
       "std      3.697627    0.802055    7.815984  \n",
       "min     70.000000    1.000000    9.000000  \n",
       "25%     73.000000    1.000000   17.500000  \n",
       "50%     76.000000    1.000000   23.000000  \n",
       "75%     79.000000    2.000000   29.000000  \n",
       "max     82.000000    3.000000   46.600000  "
      ]
     },
     "metadata": {},
     "output_type": "display_data"
    }
   ],
   "source": [
    "import pandas as pd\n",
    "data = pd.DataFrame(X, columns=auto_mpg.features)\n",
    "data['mpg'] = y\n",
    "display(data.describe())"
   ]
  },
  {
   "cell_type": "code",
   "execution_count": 6,
   "id": "7bdf6911",
   "metadata": {},
   "outputs": [],
   "source": [
    "import numpy as np\n",
    "from sklearn.model_selection import train_test_split\n",
    "\n",
    "X_train, X_test, y_train, y_test = train_test_split(X, y, test_size=0.25, random_state=42)"
   ]
  },
  {
   "cell_type": "code",
   "execution_count": 10,
   "id": "92577036",
   "metadata": {},
   "outputs": [
    {
     "name": "stderr",
     "output_type": "stream",
     "text": [
      "/home/azureuser/anaconda3/lib/python3.9/site-packages/mlflow/types/utils.py:452: UserWarning: Hint: Inferred schema contains integer column(s). Integer columns in Python cannot represent missing values. If your input data contains missing values at inference time, it will be encoded as floats and will cause a schema enforcement error. The best way to avoid this problem is to infer the model schema based on a realistic data sample (training dataset) that includes missing values. Alternatively, you can declare integer columns as doubles (float64) whenever these columns may have missing values. See `Handling Integers With Missing Values <https://www.mlflow.org/docs/latest/models.html#handling-integers-with-missing-values>`_ for more details.\n",
      "  warnings.warn(\n",
      "2025/08/13 12:35:00 WARNING mlflow.models.model: `artifact_path` is deprecated. Please use `name` instead.\n",
      "Registered model 'MPGComparison' already exists. Creating a new version of this model...\n",
      "2025/08/13 12:35:02 INFO mlflow.store.model_registry.abstract_store: Waiting up to 300 seconds for model version to finish creation. Model name: MPGComparison, version 2\n"
     ]
    },
    {
     "name": "stdout",
     "output_type": "stream",
     "text": [
      "Linear Regression → RMSE: 2.9964118609531942  MAE: 2.323901950356438\n",
      "🏃 View run judicious-newt-431 at: http://172.178.67.2:5000/#/experiments/2/runs/e755ff77c0bf43aa8be05885c6e1c0b4\n",
      "🧪 View experiment at: http://172.178.67.2:5000/#/experiments/2\n"
     ]
    },
    {
     "name": "stderr",
     "output_type": "stream",
     "text": [
      "Created version '2' of model 'MPGComparison'.\n"
     ]
    }
   ],
   "source": [
    "import mlflow\n",
    "import mlflow.sklearn\n",
    "from sklearn.linear_model import LinearRegression\n",
    "from sklearn.metrics import mean_squared_error, mean_absolute_error\n",
    "from mlflow.models import infer_signature\n",
    "import numpy as np\n",
    "\n",
    "# Assuming X_train, X_test, y_train, y_test are already loaded here\n",
    "\n",
    "mlflow.set_tracking_uri(\"http://172.178.67.2:5000\")\n",
    "mlflow.set_experiment(\"capstone\")\n",
    "\n",
    "with mlflow.start_run():\n",
    "    model = LinearRegression()\n",
    "    model.fit(X_train, y_train)\n",
    "    predictions = model.predict(X_test)\n",
    "\n",
    "    # Calculate metrics\n",
    "    rmse = np.sqrt(mean_squared_error(y_test, predictions))\n",
    "    mae = mean_absolute_error(y_test, predictions)\n",
    "\n",
    "    # Log metrics\n",
    "    mlflow.log_metric(\"rmse\", rmse)\n",
    "    mlflow.log_metric(\"mae\", mae)\n",
    "\n",
    "    # Log parameters\n",
    "    mlflow.log_param(\"model_type\", \"LinearRegression\")\n",
    "\n",
    "    # Infer signature\n",
    "    signature = infer_signature(X_train, model.predict(X_train))\n",
    "\n",
    "    # Log the model with registry and example input\n",
    "    model_info = mlflow.sklearn.log_model(\n",
    "        sk_model=model,\n",
    "        artifact_path=\"MPGCompareModel\",\n",
    "        signature=signature,\n",
    "        input_example=X_train,\n",
    "        registered_model_name=\"MPGComparison\"\n",
    "    )\n",
    "\n",
    "    print(\"Linear Regression → RMSE:\", rmse, \" MAE:\", mae)\n"
   ]
  },
  {
   "cell_type": "code",
   "execution_count": 12,
   "id": "5dae0e9c",
   "metadata": {},
   "outputs": [
    {
     "name": "stderr",
     "output_type": "stream",
     "text": [
      "/home/azureuser/anaconda3/lib/python3.9/site-packages/mlflow/types/utils.py:452: UserWarning: Hint: Inferred schema contains integer column(s). Integer columns in Python cannot represent missing values. If your input data contains missing values at inference time, it will be encoded as floats and will cause a schema enforcement error. The best way to avoid this problem is to infer the model schema based on a realistic data sample (training dataset) that includes missing values. Alternatively, you can declare integer columns as doubles (float64) whenever these columns may have missing values. See `Handling Integers With Missing Values <https://www.mlflow.org/docs/latest/models.html#handling-integers-with-missing-values>`_ for more details.\n",
      "  warnings.warn(\n",
      "2025/08/13 12:36:46 WARNING mlflow.models.model: `artifact_path` is deprecated. Please use `name` instead.\n",
      "Registered model 'MPGComparison' already exists. Creating a new version of this model...\n",
      "2025/08/13 12:36:49 INFO mlflow.store.model_registry.abstract_store: Waiting up to 300 seconds for model version to finish creation. Model name: MPGComparison, version 3\n"
     ]
    },
    {
     "name": "stdout",
     "output_type": "stream",
     "text": [
      "Decision Tree → RMSE: 3.5040119862808687  MAE: 2.3830000000000005\n",
      "🏃 View run overjoyed-carp-503 at: http://172.178.67.2:5000/#/experiments/2/runs/320346ba15bb4d148640538d462b3039\n",
      "🧪 View experiment at: http://172.178.67.2:5000/#/experiments/2\n"
     ]
    },
    {
     "name": "stderr",
     "output_type": "stream",
     "text": [
      "Created version '3' of model 'MPGComparison'.\n"
     ]
    }
   ],
   "source": [
    "import mlflow\n",
    "import mlflow.sklearn\n",
    "from sklearn.tree import DecisionTreeRegressor\n",
    "from sklearn.metrics import mean_squared_error, mean_absolute_error\n",
    "from mlflow.models import infer_signature\n",
    "import numpy as np\n",
    "\n",
    "# Assuming X_train, X_test, y_train, y_test are already loaded here\n",
    "\n",
    "mlflow.set_tracking_uri(\"http://172.178.67.2:5000\")\n",
    "mlflow.set_experiment(\"capstone\")\n",
    "\n",
    "with mlflow.start_run():\n",
    "    model = DecisionTreeRegressor()\n",
    "    model.fit(X_train, y_train)\n",
    "    predictions = model.predict(X_test)\n",
    "\n",
    "    rmse = np.sqrt(mean_squared_error(y_test, predictions))\n",
    "    mae = mean_absolute_error(y_test, predictions)\n",
    "\n",
    "    mlflow.log_metric(\"rmse\", rmse)\n",
    "    mlflow.log_metric(\"mae\", mae)\n",
    "    mlflow.log_param(\"model_type\", \"DecisionTreeRegressor\")\n",
    "\n",
    "    signature = infer_signature(X_train, model.predict(X_train))\n",
    "\n",
    "    model_info = mlflow.sklearn.log_model(\n",
    "        sk_model=model,\n",
    "        artifact_path=\"MPGCompareModel\",\n",
    "        signature=signature,\n",
    "        input_example=X_train,\n",
    "        registered_model_name=\"MPGComparison\"\n",
    "    )\n",
    "\n",
    "    print(\"Decision Tree → RMSE:\", rmse, \" MAE:\", mae)\n"
   ]
  },
  {
   "cell_type": "code",
   "execution_count": 14,
   "id": "3f3f9253",
   "metadata": {},
   "outputs": [
    {
     "name": "stderr",
     "output_type": "stream",
     "text": [
      "/home/azureuser/anaconda3/lib/python3.9/site-packages/sklearn/base.py:1389: DataConversionWarning: A column-vector y was passed when a 1d array was expected. Please change the shape of y to (n_samples,), for example using ravel().\n",
      "  return fit_method(estimator, *args, **kwargs)\n",
      "/home/azureuser/anaconda3/lib/python3.9/site-packages/mlflow/types/utils.py:452: UserWarning: Hint: Inferred schema contains integer column(s). Integer columns in Python cannot represent missing values. If your input data contains missing values at inference time, it will be encoded as floats and will cause a schema enforcement error. The best way to avoid this problem is to infer the model schema based on a realistic data sample (training dataset) that includes missing values. Alternatively, you can declare integer columns as doubles (float64) whenever these columns may have missing values. See `Handling Integers With Missing Values <https://www.mlflow.org/docs/latest/models.html#handling-integers-with-missing-values>`_ for more details.\n",
      "  warnings.warn(\n",
      "2025/08/13 12:40:11 WARNING mlflow.models.model: `artifact_path` is deprecated. Please use `name` instead.\n",
      "Registered model 'MPGComparison' already exists. Creating a new version of this model...\n",
      "2025/08/13 12:40:14 INFO mlflow.store.model_registry.abstract_store: Waiting up to 300 seconds for model version to finish creation. Model name: MPGComparison, version 5\n"
     ]
    },
    {
     "name": "stdout",
     "output_type": "stream",
     "text": [
      "Random Forest → RMSE: 2.67029418416773  MAE: 1.7778700000000003\n",
      "🏃 View run charming-lynx-954 at: http://172.178.67.2:5000/#/experiments/2/runs/94811291886e44179ae045a9df56e748\n",
      "🧪 View experiment at: http://172.178.67.2:5000/#/experiments/2\n"
     ]
    },
    {
     "name": "stderr",
     "output_type": "stream",
     "text": [
      "Created version '5' of model 'MPGComparison'.\n"
     ]
    }
   ],
   "source": [
    "import mlflow\n",
    "import mlflow.sklearn\n",
    "from sklearn.ensemble import RandomForestRegressor\n",
    "from sklearn.metrics import mean_squared_error, mean_absolute_error\n",
    "from mlflow.models import infer_signature\n",
    "import numpy as np\n",
    "\n",
    "# Assuming X_train, X_test, y_train, y_test are already loaded here\n",
    "\n",
    "mlflow.set_tracking_uri(\"http://172.178.67.2:5000\")\n",
    "mlflow.set_experiment(\"capstone\")\n",
    "\n",
    "with mlflow.start_run():\n",
    "    model = RandomForestRegressor()\n",
    "    model.fit(X_train, y_train)\n",
    "    predictions = model.predict(X_test)\n",
    "\n",
    "    rmse = np.sqrt(mean_squared_error(y_test, predictions))\n",
    "    mae = mean_absolute_error(y_test, predictions)\n",
    "\n",
    "    mlflow.log_metric(\"rmse\", rmse)\n",
    "    mlflow.log_metric(\"mae\", mae)\n",
    "    mlflow.log_param(\"model_type\", \"RandomForestRegressor\")\n",
    "\n",
    "    signature = infer_signature(X_train, model.predict(X_train))\n",
    "\n",
    "    model_info = mlflow.sklearn.log_model(\n",
    "        sk_model=model,\n",
    "        artifact_path=\"MPGCompareModel\",\n",
    "        signature=signature,\n",
    "        input_example=X_train,\n",
    "        registered_model_name=\"MPGComparison\"\n",
    "    )\n",
    "\n",
    "    print(\"Random Forest → RMSE:\", rmse, \" MAE:\", mae)\n"
   ]
  },
  {
   "cell_type": "code",
   "execution_count": 15,
   "id": "a9ab69f1",
   "metadata": {},
   "outputs": [
    {
     "name": "stderr",
     "output_type": "stream",
     "text": [
      "/home/azureuser/anaconda3/lib/python3.9/site-packages/sklearn/ensemble/_gb.py:672: DataConversionWarning: A column-vector y was passed when a 1d array was expected. Please change the shape of y to (n_samples, ), for example using ravel().\n",
      "  y = column_or_1d(y, warn=True)  # TODO: Is this still required?\n",
      "/home/azureuser/anaconda3/lib/python3.9/site-packages/mlflow/types/utils.py:452: UserWarning: Hint: Inferred schema contains integer column(s). Integer columns in Python cannot represent missing values. If your input data contains missing values at inference time, it will be encoded as floats and will cause a schema enforcement error. The best way to avoid this problem is to infer the model schema based on a realistic data sample (training dataset) that includes missing values. Alternatively, you can declare integer columns as doubles (float64) whenever these columns may have missing values. See `Handling Integers With Missing Values <https://www.mlflow.org/docs/latest/models.html#handling-integers-with-missing-values>`_ for more details.\n",
      "  warnings.warn(\n",
      "2025/08/13 12:40:42 WARNING mlflow.models.model: `artifact_path` is deprecated. Please use `name` instead.\n",
      "Registered model 'MPGComparison' already exists. Creating a new version of this model...\n",
      "2025/08/13 12:40:44 INFO mlflow.store.model_registry.abstract_store: Waiting up to 300 seconds for model version to finish creation. Model name: MPGComparison, version 6\n"
     ]
    },
    {
     "name": "stdout",
     "output_type": "stream",
     "text": [
      "Gradient Boosting → RMSE: 2.626412885950547  MAE: 1.8903462807955846\n",
      "🏃 View run delicate-fowl-302 at: http://172.178.67.2:5000/#/experiments/2/runs/4517b7a7175c456184e69f2fb92aa1be\n",
      "🧪 View experiment at: http://172.178.67.2:5000/#/experiments/2\n"
     ]
    },
    {
     "name": "stderr",
     "output_type": "stream",
     "text": [
      "Created version '6' of model 'MPGComparison'.\n"
     ]
    }
   ],
   "source": [
    "import mlflow\n",
    "import mlflow.sklearn\n",
    "from sklearn.ensemble import GradientBoostingRegressor\n",
    "from sklearn.metrics import mean_squared_error, mean_absolute_error\n",
    "from mlflow.models import infer_signature\n",
    "import numpy as np\n",
    "\n",
    "# Assuming X_train, X_test, y_train, y_test are already loaded here\n",
    "\n",
    "mlflow.set_tracking_uri(\"http://172.178.67.2:5000\")\n",
    "mlflow.set_experiment(\"capstone\")\n",
    "\n",
    "with mlflow.start_run():\n",
    "    model = GradientBoostingRegressor()\n",
    "    model.fit(X_train, y_train)\n",
    "    predictions = model.predict(X_test)\n",
    "\n",
    "    rmse = np.sqrt(mean_squared_error(y_test, predictions))\n",
    "    mae = mean_absolute_error(y_test, predictions)\n",
    "\n",
    "    mlflow.log_metric(\"rmse\", rmse)\n",
    "    mlflow.log_metric(\"mae\", mae)\n",
    "    mlflow.log_param(\"model_type\", \"GradientBoostingRegressor\")\n",
    "\n",
    "    signature = infer_signature(X_train, model.predict(X_train))\n",
    "\n",
    "    model_info = mlflow.sklearn.log_model(\n",
    "        sk_model=model,\n",
    "        artifact_path=\"MPGCompareModel\",\n",
    "        signature=signature,\n",
    "        input_example=X_train,\n",
    "        registered_model_name=\"MPGComparison\"\n",
    "    )\n",
    "\n",
    "    print(\"Gradient Boosting → RMSE:\", rmse, \" MAE:\", mae)\n"
   ]
  },
  {
   "cell_type": "code",
   "execution_count": 17,
   "id": "8b4758a1",
   "metadata": {},
   "outputs": [
    {
     "name": "stdout",
     "output_type": "stream",
     "text": [
      "Collecting Xgboost\n",
      "  Downloading xgboost-2.1.4-py3-none-manylinux_2_28_x86_64.whl (223.6 MB)\n",
      "\u001b[K     |████████████████████████████████| 223.5 MB 91.9 MB/s eta 0:00:01\u001b[K     |████████████████████████████████| 223.6 MB 4.3 kB/s  eta 0:00:01\n",
      "\u001b[?25hCollecting nvidia-nccl-cu12\n",
      "  Downloading nvidia_nccl_cu12-2.27.7-py3-none-manylinux2014_x86_64.manylinux_2_17_x86_64.whl (322.5 MB)\n",
      "\u001b[K     |████████████████████████████████| 322.5 MB 17 kB/s s eta 0:00:01\n",
      "\u001b[?25hRequirement already satisfied: scipy in /home/azureuser/anaconda3/lib/python3.9/site-packages (from Xgboost) (1.13.1)\n",
      "Requirement already satisfied: numpy in /home/azureuser/anaconda3/lib/python3.9/site-packages (from Xgboost) (1.26.4)\n",
      "Installing collected packages: nvidia-nccl-cu12, Xgboost\n",
      "Successfully installed Xgboost-2.1.4 nvidia-nccl-cu12-2.27.7\n",
      "Note: you may need to restart the kernel to use updated packages.\n"
     ]
    }
   ],
   "source": [
    "pip install Xgboost\n"
   ]
  },
  {
   "cell_type": "code",
   "execution_count": 18,
   "id": "475944e6",
   "metadata": {},
   "outputs": [
    {
     "name": "stderr",
     "output_type": "stream",
     "text": [
      "/home/azureuser/anaconda3/lib/python3.9/site-packages/mlflow/types/utils.py:452: UserWarning: Hint: Inferred schema contains integer column(s). Integer columns in Python cannot represent missing values. If your input data contains missing values at inference time, it will be encoded as floats and will cause a schema enforcement error. The best way to avoid this problem is to infer the model schema based on a realistic data sample (training dataset) that includes missing values. Alternatively, you can declare integer columns as doubles (float64) whenever these columns may have missing values. See `Handling Integers With Missing Values <https://www.mlflow.org/docs/latest/models.html#handling-integers-with-missing-values>`_ for more details.\n",
      "  warnings.warn(\n",
      "2025/08/13 12:42:32 WARNING mlflow.models.model: `artifact_path` is deprecated. Please use `name` instead.\n",
      "Registered model 'MPGComparison' already exists. Creating a new version of this model...\n",
      "2025/08/13 12:42:34 INFO mlflow.store.model_registry.abstract_store: Waiting up to 300 seconds for model version to finish creation. Model name: MPGComparison, version 7\n"
     ]
    },
    {
     "name": "stdout",
     "output_type": "stream",
     "text": [
      "XGBoost → RMSE: 2.936132721554246  MAE: 1.983784794807434\n",
      "🏃 View run abrasive-sheep-171 at: http://172.178.67.2:5000/#/experiments/2/runs/212123865e71474ea5322c110c086c82\n",
      "🧪 View experiment at: http://172.178.67.2:5000/#/experiments/2\n"
     ]
    },
    {
     "name": "stderr",
     "output_type": "stream",
     "text": [
      "Created version '7' of model 'MPGComparison'.\n"
     ]
    }
   ],
   "source": [
    "import mlflow\n",
    "import mlflow.sklearn\n",
    "from xgboost import XGBRegressor\n",
    "from sklearn.metrics import mean_squared_error, mean_absolute_error\n",
    "from mlflow.models import infer_signature\n",
    "import numpy as np\n",
    "\n",
    "# Assuming X_train, X_test, y_train, y_test are already loaded here\n",
    "\n",
    "mlflow.set_tracking_uri(\"http://172.178.67.2:5000\")\n",
    "mlflow.set_experiment(\"capstone\")\n",
    "\n",
    "with mlflow.start_run():\n",
    "    model = XGBRegressor()\n",
    "    model.fit(X_train, y_train)\n",
    "    predictions = model.predict(X_test)\n",
    "\n",
    "    rmse = np.sqrt(mean_squared_error(y_test, predictions))\n",
    "    mae = mean_absolute_error(y_test, predictions)\n",
    "\n",
    "    mlflow.log_metric(\"rmse\", rmse)\n",
    "    mlflow.log_metric(\"mae\", mae)\n",
    "    mlflow.log_param(\"model_type\", \"XGBRegressor\")\n",
    "\n",
    "    signature = infer_signature(X_train, model.predict(X_train))\n",
    "\n",
    "    model_info = mlflow.sklearn.log_model(\n",
    "        sk_model=model,\n",
    "        artifact_path=\"MPGCompareModel\",\n",
    "        signature=signature,\n",
    "        input_example=X_train,\n",
    "        registered_model_name=\"MPGComparison\"\n",
    "    )\n",
    "\n",
    "    print(\"XGBoost → RMSE:\", rmse, \" MAE:\", mae)\n"
   ]
  },
  {
   "cell_type": "code",
   "execution_count": 1,
   "id": "d75d6ae5",
   "metadata": {},
   "outputs": [
    {
     "name": "stderr",
     "output_type": "stream",
     "text": [
      "/home/azureuser/anaconda3/lib/python3.9/site-packages/pandas/core/computation/expressions.py:21: UserWarning: Pandas requires version '2.8.4' or newer of 'numexpr' (version '2.8.1' currently installed).\n",
      "  from pandas.core.computation.check import NUMEXPR_INSTALLED\n",
      "/home/azureuser/anaconda3/lib/python3.9/site-packages/pandas/core/arrays/masked.py:61: UserWarning: Pandas requires version '1.3.6' or newer of 'bottleneck' (version '1.3.4' currently installed).\n",
      "  from pandas.core import (\n"
     ]
    },
    {
     "name": "stdout",
     "output_type": "stream",
     "text": [
      "Loaded model: MPGComparison v5\n",
      "Model saved locally as lr_model.bin\n"
     ]
    }
   ],
   "source": [
    "import mlflow\n",
    "import pickle\n",
    " \n",
    "# Connect to your MLflow tracking server\n",
    "mlflow.set_tracking_uri(\"http://172.178.67.2:5000\")\n",
    " \n",
    "# Registered model details\n",
    "reg_model_name = \"MPGComparison\"\n",
    "model_version = 5\n",
    "model_uri = f\"models:/{reg_model_name}/{model_version}\"\n",
    " \n",
    "# Load the model from MLflow\n",
    "loaded_model = mlflow.sklearn.load_model(model_uri)\n",
    "print(f\"Loaded model: {reg_model_name} v{model_version}\")\n",
    " \n",
    "# Save to local file as lr_model.bin\n",
    "with open(\"lr_model.bin\", \"wb\") as f_out:\n",
    "    pickle.dump(loaded_model, f_out)\n",
    " \n",
    "print(\"Model saved locally as lr_model.bin\")"
   ]
  },
  {
   "cell_type": "code",
   "execution_count": null,
   "id": "9eb28369",
   "metadata": {},
   "outputs": [],
   "source": []
  }
 ],
 "metadata": {
  "kernelspec": {
   "display_name": "Python 3 (ipykernel)",
   "language": "python",
   "name": "python3"
  },
  "language_info": {
   "codemirror_mode": {
    "name": "ipython",
    "version": 3
   },
   "file_extension": ".py",
   "mimetype": "text/x-python",
   "name": "python",
   "nbconvert_exporter": "python",
   "pygments_lexer": "ipython3",
   "version": "3.9.12"
  }
 },
 "nbformat": 4,
 "nbformat_minor": 5
}
